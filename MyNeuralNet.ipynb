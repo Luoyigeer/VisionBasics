{
 "cells": [
  {
   "metadata": {},
   "cell_type": "markdown",
   "source": "1.使用Pytorch自定义类搭建神经网络",
   "id": "5a0f7edc4e6a4fc8"
  },
  {
   "cell_type": "code",
   "id": "initial_id",
   "metadata": {
    "collapsed": true,
    "ExecuteTime": {
     "end_time": "2025-10-18T02:50:55.391173Z",
     "start_time": "2025-10-18T02:50:46.804648Z"
    }
   },
   "source": [
    "import torch\n",
    "from torch import nn\n"
   ],
   "outputs": [],
   "execution_count": 1
  },
  {
   "metadata": {
    "ExecuteTime": {
     "end_time": "2025-10-18T02:52:04.197724Z",
     "start_time": "2025-10-18T02:52:03.370469Z"
    }
   },
   "cell_type": "code",
   "source": [
    "x = [[1,2],[3,4],[5,6],[7,8]]\n",
    "y = [[3],[7],[11],[15]]\n",
    "\n",
    "X = torch.tensor(x).float()\n",
    "Y = torch.tensor(y).float()\n",
    "\n",
    "device = 'cuda' if torch.cuda.is_available() else 'cpu'\n",
    "X = X.to(device)\n",
    "Y = Y.to(device)"
   ],
   "id": "2f22f4c6d84a33f5",
   "outputs": [],
   "execution_count": 2
  },
  {
   "metadata": {
    "ExecuteTime": {
     "end_time": "2025-10-18T02:52:33.301094Z",
     "start_time": "2025-10-18T02:52:33.292832Z"
    }
   },
   "cell_type": "code",
   "source": [
    "class MyNeuralNet(nn.Module):\n",
    "    def __init__(self):\n",
    "        super().__init__()\n",
    "        self.input_to_hidden_layer = nn.Linear(2,8)\n",
    "        self.hidden_layer_activation = nn.ReLU() #Relu激活函数\n",
    "        self.hidden_to_output_layer = nn.Linear(8,1)\n",
    "    def forward(self, x):\n",
    "        x = self.input_to_hidden_layer(x)\n",
    "        x = self.hidden_layer_activation(x)\n",
    "        x = self.hidden_to_output_layer(x)\n",
    "        return x\n"
   ],
   "id": "7d6673e053d2d65a",
   "outputs": [],
   "execution_count": 3
  },
  {
   "metadata": {
    "ExecuteTime": {
     "end_time": "2025-10-18T02:53:43.636187Z",
     "start_time": "2025-10-18T02:53:43.628806Z"
    }
   },
   "cell_type": "code",
   "source": [
    "print(nn.Linear(2, 7))\n",
    "#Linear(in_features=2, out_features=7, bias=True)\n"
   ],
   "id": "9d0b4b914850051a",
   "outputs": [
    {
     "name": "stdout",
     "output_type": "stream",
     "text": [
      "Linear(in_features=2, out_features=7, bias=True)\n"
     ]
    }
   ],
   "execution_count": 6
  },
  {
   "metadata": {
    "ExecuteTime": {
     "end_time": "2025-10-18T02:54:47.792015Z",
     "start_time": "2025-10-18T02:54:47.755241Z"
    }
   },
   "cell_type": "code",
   "source": "mynet = MyNeuralNet().to(device)",
   "id": "75dc803255a7259e",
   "outputs": [],
   "execution_count": 9
  },
  {
   "metadata": {
    "ExecuteTime": {
     "end_time": "2025-10-18T02:54:49.411827Z",
     "start_time": "2025-10-18T02:54:49.348826Z"
    }
   },
   "cell_type": "code",
   "source": [
    "#访问每层权重和偏置\n",
    "print(mynet.input_to_hidden_layer.weight)"
   ],
   "id": "2937c5106a8af033",
   "outputs": [
    {
     "name": "stdout",
     "output_type": "stream",
     "text": [
      "Parameter containing:\n",
      "tensor([[ 0.5968, -0.4297],\n",
      "        [-0.2015,  0.2897],\n",
      "        [ 0.0149, -0.5204],\n",
      "        [ 0.2084,  0.5225],\n",
      "        [ 0.0570,  0.0934],\n",
      "        [ 0.6676,  0.1885],\n",
      "        [-0.0905, -0.6643],\n",
      "        [ 0.6533,  0.1918]], device='cuda:0', requires_grad=True)\n"
     ]
    }
   ],
   "execution_count": 10
  },
  {
   "metadata": {
    "ExecuteTime": {
     "end_time": "2025-10-18T03:20:06.640898Z",
     "start_time": "2025-10-18T03:20:06.629833Z"
    }
   },
   "cell_type": "code",
   "source": "mynet.parameters()",
   "id": "8cb335eaf4fc4475",
   "outputs": [
    {
     "data": {
      "text/plain": [
       "<generator object Module.parameters at 0x000001BE406E7BC0>"
      ]
     },
     "execution_count": 11,
     "metadata": {},
     "output_type": "execute_result"
    }
   ],
   "execution_count": 11
  },
  {
   "metadata": {
    "ExecuteTime": {
     "end_time": "2025-10-18T03:20:16.228265Z",
     "start_time": "2025-10-18T03:20:16.207966Z"
    }
   },
   "cell_type": "code",
   "source": [
    "for param in mynet.parameters():\n",
    "    print(param)"
   ],
   "id": "893f7e7d0b0592f9",
   "outputs": [
    {
     "name": "stdout",
     "output_type": "stream",
     "text": [
      "Parameter containing:\n",
      "tensor([[ 0.5968, -0.4297],\n",
      "        [-0.2015,  0.2897],\n",
      "        [ 0.0149, -0.5204],\n",
      "        [ 0.2084,  0.5225],\n",
      "        [ 0.0570,  0.0934],\n",
      "        [ 0.6676,  0.1885],\n",
      "        [-0.0905, -0.6643],\n",
      "        [ 0.6533,  0.1918]], device='cuda:0', requires_grad=True)\n",
      "Parameter containing:\n",
      "tensor([ 0.6845, -0.3105,  0.6295,  0.0724, -0.2143, -0.0504,  0.6114, -0.0448],\n",
      "       device='cuda:0', requires_grad=True)\n",
      "Parameter containing:\n",
      "tensor([[-0.0429, -0.0031,  0.2206, -0.3056,  0.1284, -0.1364, -0.2069, -0.1522]],\n",
      "       device='cuda:0', requires_grad=True)\n",
      "Parameter containing:\n",
      "tensor([-0.0731], device='cuda:0', requires_grad=True)\n"
     ]
    }
   ],
   "execution_count": 12
  },
  {
   "metadata": {
    "ExecuteTime": {
     "end_time": "2025-10-18T03:20:43.779763Z",
     "start_time": "2025-10-18T03:20:43.774360Z"
    }
   },
   "cell_type": "code",
   "source": [
    "class MyNeuralNet(nn.Module):\n",
    "    def __init__(self):\n",
    "        super().__init__()\n",
    "        self.input_to_hidden_layer = nn.parameter(torch.rand(2,8))\n",
    "        self.hidden_layer_activation = nn.ReLU()\n",
    "        self.hidden_to_output_layer = nn.parameter(torch.rand(8,1))\n",
    "    def forward(self, x):\n",
    "        x = x @ self.input_to_hidden_layer\n",
    "        x = self.hidden_layer_activation(x)\n",
    "        x = x @ self.hidden_to_output_layer\n",
    "        return x\n"
   ],
   "id": "bd05c3f7f2149441",
   "outputs": [],
   "execution_count": 13
  },
  {
   "metadata": {
    "ExecuteTime": {
     "end_time": "2025-10-18T03:20:49.569243Z",
     "start_time": "2025-10-18T03:20:49.565186Z"
    }
   },
   "cell_type": "code",
   "source": "loss_func = nn.MSELoss()",
   "id": "dfe6607a7dcf4159",
   "outputs": [],
   "execution_count": 14
  },
  {
   "metadata": {
    "ExecuteTime": {
     "end_time": "2025-10-18T03:24:51.290194Z",
     "start_time": "2025-10-18T03:24:50.791883Z"
    }
   },
   "cell_type": "code",
   "source": [
    "_Y = mynet(X)\n",
    "loss_value = loss_func(_Y,Y)\n",
    "print(loss_value)\n",
    "# tensor(127.4498, device='cuda:0', grad_fn=<MseLossBackward>)"
   ],
   "id": "c3c9b6ab9c1bfcc2",
   "outputs": [
    {
     "name": "stdout",
     "output_type": "stream",
     "text": [
      "tensor(154.4984, device='cuda:0', grad_fn=<MseLossBackward0>)\n"
     ]
    }
   ],
   "execution_count": 15
  },
  {
   "metadata": {
    "ExecuteTime": {
     "end_time": "2025-10-18T03:25:54.804998Z",
     "start_time": "2025-10-18T03:25:54.603885Z"
    }
   },
   "cell_type": "code",
   "source": [
    "from torch.optim import SGD\n",
    "opt = SGD(mynet.parameters(), lr = 0.001)\n",
    "opt.zero_grad()\n",
    "loss_value = loss_func(mynet(X),Y)\n",
    "loss_value.backward()\n",
    "opt.step()\n"
   ],
   "id": "cfa6a7183bd45c03",
   "outputs": [],
   "execution_count": 19
  },
  {
   "metadata": {
    "ExecuteTime": {
     "end_time": "2025-10-18T03:26:10.142109Z",
     "start_time": "2025-10-18T03:26:10.065422Z"
    }
   },
   "cell_type": "code",
   "source": [
    "loss_history = []\n",
    "for _ in range(50):\n",
    "    opt.zero_grad()\n",
    "    loss_value = loss_func(mynet(X),Y)\n",
    "    loss_value.backward()\n",
    "    opt.step()\n",
    "    loss_history.append(loss_value.item())"
   ],
   "id": "4bb5fe0c41178331",
   "outputs": [],
   "execution_count": 20
  },
  {
   "metadata": {
    "ExecuteTime": {
     "end_time": "2025-10-18T03:26:23.600810Z",
     "start_time": "2025-10-18T03:26:21.493780Z"
    }
   },
   "cell_type": "code",
   "source": [
    "import matplotlib.pyplot as plt\n",
    "plt.plot(loss_history)\n",
    "plt.title('Loss variation over increasing epochs')\n",
    "plt.xlabel('epochs')\n",
    "plt.ylabel('loss value')\n",
    "plt.show()"
   ],
   "id": "c80f33f336933bd3",
   "outputs": [
    {
     "data": {
      "text/plain": [
       "<Figure size 640x480 with 1 Axes>"
      ],
      "image/png": "[encoded data removed]"
     },
     "metadata": {},
     "output_type": "display_data",
     "jetTransient": {
      "display_id": null
     }
    }
   ],
   "execution_count": 21
  },
  {
   "metadata": {
    "ExecuteTime": {
     "end_time": "2025-10-18T03:27:31.827444Z",
     "start_time": "2025-10-18T03:27:31.822781Z"
    }
   },
   "cell_type": "code",
   "source": [
    "from torch.utils.data import Dataset, DataLoader\n",
    "import torch\n",
    "import torch.nn as nn"
   ],
   "id": "b2f4f2bbede9c1c3",
   "outputs": [],
   "execution_count": 22
  },
  {
   "metadata": {
    "ExecuteTime": {
     "end_time": "2025-10-18T03:28:31.141263Z",
     "start_time": "2025-10-18T03:28:31.135440Z"
    }
   },
   "cell_type": "code",
   "source": [
    "x = [[1,2],[3,4],[5,6],[7,8]]\n",
    "y = [[3],[7],[11],[15]]\n",
    "\n",
    "X = torch.tensor(x).float()\n",
    "Y = torch.tensor(y).float()\n",
    "\n",
    "device = 'cuda' if torch.cuda.is_available() else 'cpu'\n",
    "X = X.to(device)\n",
    "Y = Y.to(device)\n"
   ],
   "id": "5636268dd8d5e03",
   "outputs": [],
   "execution_count": 23
  },
  {
   "metadata": {
    "ExecuteTime": {
     "end_time": "2025-10-18T03:30:51.265416Z",
     "start_time": "2025-10-18T03:30:51.260523Z"
    }
   },
   "cell_type": "code",
   "source": [
    "class MyDataset(Dataset):\n",
    "    def __init__(self,x,y):\n",
    "        self.x = x.clone().detach() # torch.tensor(x).float()\n",
    "        self.y = y.clone().detach() # torch.tensor(y).float()\n",
    "    def __len__(self):\n",
    "        return len(self.x)\n",
    "    def __getitem__(self, ix):\n",
    "        return self.x[ix], self.y[ix]"
   ],
   "id": "8b1f4d6d6e0313b4",
   "outputs": [],
   "execution_count": 25
  },
  {
   "metadata": {
    "ExecuteTime": {
     "end_time": "2025-10-18T03:31:08.367714Z",
     "start_time": "2025-10-18T03:31:08.343309Z"
    }
   },
   "cell_type": "code",
   "source": [
    "ds = MyDataset(X, Y)\n",
    "\n",
    "dl = DataLoader(ds, batch_size=2, shuffle=True)"
   ],
   "id": "f12524dc3d1839ea",
   "outputs": [],
   "execution_count": 26
  },
  {
   "metadata": {
    "ExecuteTime": {
     "end_time": "2025-10-18T03:31:23.413414Z",
     "start_time": "2025-10-18T03:31:23.160292Z"
    }
   },
   "cell_type": "code",
   "source": [
    "for x, y in dl:\n",
    "    print(x, y)"
   ],
   "id": "1dfdc2f9039aa848",
   "outputs": [
    {
     "name": "stdout",
     "output_type": "stream",
     "text": [
      "tensor([[7., 8.],\n",
      "        [3., 4.]], device='cuda:0') tensor([[15.],\n",
      "        [ 7.]], device='cuda:0')\n",
      "tensor([[5., 6.],\n",
      "        [1., 2.]], device='cuda:0') tensor([[11.],\n",
      "        [ 3.]], device='cuda:0')\n"
     ]
    }
   ],
   "execution_count": 27
  },
  {
   "metadata": {
    "ExecuteTime": {
     "end_time": "2025-10-18T03:31:40.730646Z",
     "start_time": "2025-10-18T03:31:40.726345Z"
    }
   },
   "cell_type": "code",
   "source": [
    "class MyNeuralNet(nn.Module):\n",
    "    def __init__(self):\n",
    "        super().__init__()\n",
    "        self.input_to_hidden_layer = nn.Linear(2,8)\n",
    "        self.hidden_layer_activation = nn.ReLU()\n",
    "        self.hidden_to_output_layer = nn.Linear(8,1)\n",
    "    def forward(self, x):\n",
    "        x = self.input_to_hidden_layer(x)\n",
    "        x = self.hidden_layer_activation(x)\n",
    "        x = self.hidden_to_output_layer(x)\n",
    "        return x"
   ],
   "id": "218286314fe9add0",
   "outputs": [],
   "execution_count": 28
  },
  {
   "metadata": {
    "ExecuteTime": {
     "end_time": "2025-10-18T03:31:50.543502Z",
     "start_time": "2025-10-18T03:31:50.536736Z"
    }
   },
   "cell_type": "code",
   "source": [
    "mynet = MyNeuralNet().to(device)\n",
    "loss_func = nn.MSELoss()\n",
    "from torch.optim import SGD\n",
    "opt = SGD(mynet.parameters(), lr = 0.001)\n"
   ],
   "id": "f142da694abe17e2",
   "outputs": [],
   "execution_count": 29
  },
  {
   "metadata": {
    "ExecuteTime": {
     "end_time": "2025-10-18T03:32:02.095368Z",
     "start_time": "2025-10-18T03:32:01.944608Z"
    }
   },
   "cell_type": "code",
   "source": [
    "import time\n",
    "loss_history = []\n",
    "start = time.time()\n",
    "for _ in range(50):\n",
    "    for data in dl:\n",
    "        x, y = data\n",
    "        opt.zero_grad()\n",
    "        loss_value = loss_func(mynet(x),y)\n",
    "        loss_value.backward()\n",
    "        opt.step()\n",
    "        loss_history.append(loss_value.item())\n",
    "end = time.time()\n",
    "print(end - start)"
   ],
   "id": "db43366c7b2684",
   "outputs": [
    {
     "name": "stdout",
     "output_type": "stream",
     "text": [
      "0.14562058448791504\n"
     ]
    }
   ],
   "execution_count": 30
  },
  {
   "metadata": {
    "ExecuteTime": {
     "end_time": "2025-10-18T03:36:00.076440Z",
     "start_time": "2025-10-18T03:36:00.068565Z"
    }
   },
   "cell_type": "code",
   "source": [
    "#模型测试\n",
    "val_x = [[10,11]]\n",
    "val_x = torch.tensor(val_x).float().to(device)\n",
    "\n",
    "print(mynet(val_x))\n"
   ],
   "id": "3612475a615d1e91",
   "outputs": [
    {
     "name": "stdout",
     "output_type": "stream",
     "text": [
      "tensor([[20.5170]], device='cuda:0', grad_fn=<AddmmBackward0>)\n"
     ]
    }
   ],
   "execution_count": 32
  },
  {
   "metadata": {
    "ExecuteTime": {
     "end_time": "2025-10-18T03:36:21.078576Z",
     "start_time": "2025-10-18T03:36:21.048098Z"
    }
   },
   "cell_type": "code",
   "source": "print(mynet.hidden_layer_activation(mynet.input_to_hidden_layer(X)))",
   "id": "f8461bd6d7d382c0",
   "outputs": [
    {
     "name": "stdout",
     "output_type": "stream",
     "text": [
      "tensor([[0.8637, 0.9351, 0.9018, 1.0552, 0.0000, 2.2851, 0.0000, 1.7234],\n",
      "        [2.2096, 2.7000, 1.6767, 2.4254, 0.0000, 4.2875, 0.0000, 2.8678],\n",
      "        [3.5556, 4.4650, 2.4516, 3.7956, 0.0000, 6.2898, 0.0000, 4.0122],\n",
      "        [4.9015, 6.2299, 3.2265, 5.1658, 0.0000, 8.2921, 0.0000, 5.1566]],\n",
      "       device='cuda:0', grad_fn=<ReluBackward0>)\n"
     ]
    }
   ],
   "execution_count": 33
  },
  {
   "metadata": {
    "ExecuteTime": {
     "end_time": "2025-10-18T03:36:33.939007Z",
     "start_time": "2025-10-18T03:36:33.934453Z"
    }
   },
   "cell_type": "code",
   "source": [
    "class MyNeuralNet(nn.Module):\n",
    "    def __init__(self):\n",
    "        super().__init__()\n",
    "        self.input_to_hidden_layer = nn.Linear(2,8)\n",
    "        self.hidden_layer_activation = nn.ReLU()\n",
    "        self.hidden_to_output_layer = nn.Linear(8,1)\n",
    "    def forward(self, x):\n",
    "        hidden1 = self.input_to_hidden_layer(x)\n",
    "        hidden2 = self.hidden_layer_activation(hidden1)\n",
    "        x = self.hidden_to_output_layer(hidden2)\n",
    "        return x, hidden2\n"
   ],
   "id": "7d99dabb831f34d5",
   "outputs": [],
   "execution_count": 34
  },
  {
   "metadata": {
    "ExecuteTime": {
     "end_time": "2025-10-18T03:36:43.945780Z",
     "start_time": "2025-10-18T03:36:43.845046Z"
    }
   },
   "cell_type": "code",
   "source": "print(mynet(X)[1])",
   "id": "3784bba7de77c89a",
   "outputs": [
    {
     "name": "stdout",
     "output_type": "stream",
     "text": [
      "tensor([7.1957], device='cuda:0', grad_fn=<SelectBackward0>)\n"
     ]
    }
   ],
   "execution_count": 35
  },
  {
   "metadata": {},
   "cell_type": "markdown",
   "source": "2.使用sequential类搭建神经网络",
   "id": "1bec3ee8bb729fa8"
  },
  {
   "metadata": {
    "ExecuteTime": {
     "end_time": "2025-10-18T03:43:54.175601Z",
     "start_time": "2025-10-18T03:43:54.171407Z"
    }
   },
   "cell_type": "code",
   "source": [
    "import torch\n",
    "import torch.nn as nn\n",
    "import numpy as np\n",
    "from torch.utils.data import Dataset, DataLoader\n",
    "device = 'cuda' if torch.cuda.is_available() else 'cpu'"
   ],
   "id": "7ec7fa0897af028f",
   "outputs": [],
   "execution_count": 36
  },
  {
   "metadata": {
    "ExecuteTime": {
     "end_time": "2025-10-18T03:44:03.183595Z",
     "start_time": "2025-10-18T03:44:03.178496Z"
    }
   },
   "cell_type": "code",
   "source": [
    "x = [[1,2],[3,4],[5,6],[7,8]]\n",
    "y = [[3],[7],[11],[15]]\n",
    "\n",
    "class MyDataset(Dataset):\n",
    "    def __init__(self, x, y):\n",
    "        self.x = torch.tensor(x).float().to(device)\n",
    "        self.y = torch.tensor(y).float().to(device)\n",
    "    def __getitem__(self, ix):\n",
    "        return self.x[ix], self.y[ix]\n",
    "    def __len__(self):\n",
    "        return len(self.x)"
   ],
   "id": "ede07a6ac0cdc3ef",
   "outputs": [],
   "execution_count": 37
  },
  {
   "metadata": {
    "ExecuteTime": {
     "end_time": "2025-10-18T03:44:12.564539Z",
     "start_time": "2025-10-18T03:44:12.559246Z"
    }
   },
   "cell_type": "code",
   "source": [
    "ds = MyDataset(x, y)\n",
    "dl = DataLoader(ds, batch_size=2, shuffle=True)"
   ],
   "id": "645e952b3e678d38",
   "outputs": [],
   "execution_count": 38
  },
  {
   "metadata": {
    "ExecuteTime": {
     "end_time": "2025-10-18T03:44:22.205512Z",
     "start_time": "2025-10-18T03:44:22.200260Z"
    }
   },
   "cell_type": "code",
   "source": [
    "model = nn.Sequential(\n",
    "    nn.Linear(2, 8),\n",
    "    nn.ReLU(),\n",
    "    nn.Linear(8, 1)\n",
    ").to(device)"
   ],
   "id": "6ebf3f7ac07bcf4c",
   "outputs": [],
   "execution_count": 39
  },
  {
   "metadata": {
    "ExecuteTime": {
     "end_time": "2025-10-18T03:44:43.399465Z",
     "start_time": "2025-10-18T03:44:43.255971Z"
    }
   },
   "cell_type": "code",
   "source": [
    "loss_func = nn.MSELoss()\n",
    "from torch.optim import SGD\n",
    "opt = SGD(model.parameters(), lr = 0.001)\n",
    "import time\n",
    "loss_history = []\n",
    "start = time.time()\n",
    "for _ in range(50):\n",
    "    for ix, iy in dl:\n",
    "        opt.zero_grad()\n",
    "        loss_value = loss_func(model(ix),iy)\n",
    "        loss_value.backward()\n",
    "        opt.step()\n",
    "        loss_history.append(loss_value.item())\n",
    "end = time.time()\n",
    "print(end - start)\n"
   ],
   "id": "760540e298468a78",
   "outputs": [
    {
     "name": "stdout",
     "output_type": "stream",
     "text": [
      "0.13846373558044434\n"
     ]
    }
   ],
   "execution_count": 40
  },
  {
   "metadata": {
    "ExecuteTime": {
     "end_time": "2025-10-18T03:45:07.922998Z",
     "start_time": "2025-10-18T03:45:07.916067Z"
    }
   },
   "cell_type": "code",
   "source": [
    "val = [[8,9],[10,11],[1.5,2.5]]\n",
    "val = torch.tensor(val).float()\n",
    "\n",
    "print(model(val.to(device)))"
   ],
   "id": "91baa83e4f457e18",
   "outputs": [
    {
     "name": "stdout",
     "output_type": "stream",
     "text": [
      "tensor([[16.3288],\n",
      "        [19.8639],\n",
      "        [ 4.8397]], device='cuda:0', grad_fn=<AddmmBackward0>)\n"
     ]
    }
   ],
   "execution_count": 42
  },
  {
   "metadata": {},
   "cell_type": "markdown",
   "source": "3.模型保存和加载",
   "id": "7d52669a2862398e"
  },
  {
   "metadata": {
    "ExecuteTime": {
     "end_time": "2025-10-18T03:45:43.470590Z",
     "start_time": "2025-10-18T03:45:43.453335Z"
    }
   },
   "cell_type": "code",
   "source": "print(model.state_dict())",
   "id": "d231bafe49e5e298",
   "outputs": [
    {
     "name": "stdout",
     "output_type": "stream",
     "text": [
      "OrderedDict([('0.weight', tensor([[ 0.6263, -0.1375],\n",
      "        [ 0.4306,  0.0665],\n",
      "        [ 0.7358,  0.6964],\n",
      "        [ 0.5492,  0.1718],\n",
      "        [-0.4736,  0.6812],\n",
      "        [ 0.1130, -0.6280],\n",
      "        [-0.1057, -0.5399],\n",
      "        [-0.4484,  0.6801]], device='cuda:0')), ('0.bias', tensor([ 0.5906,  0.1329,  0.3315,  0.4814,  0.1875,  0.0026, -0.4030,  0.3129],\n",
      "       device='cuda:0')), ('2.weight', tensor([[ 0.3084,  0.2298,  0.7514,  0.3838,  0.3201, -0.1800,  0.2514,  0.3591]],\n",
      "       device='cuda:0')), ('2.bias', tensor([0.3451], device='cuda:0'))])\n"
     ]
    }
   ],
   "execution_count": 44
  },
  {
   "metadata": {
    "ExecuteTime": {
     "end_time": "2025-10-18T03:47:06.575348Z",
     "start_time": "2025-10-18T03:47:06.374352Z"
    }
   },
   "cell_type": "code",
   "source": [
    "save_path = 'mymodel.pth'\n",
    "torch.save(model.state_dict(), save_path)\n"
   ],
   "id": "508fe9878babc468",
   "outputs": [],
   "execution_count": 45
  },
  {
   "metadata": {
    "ExecuteTime": {
     "end_time": "2025-10-18T03:47:41.060031Z",
     "start_time": "2025-10-18T03:47:41.055152Z"
    }
   },
   "cell_type": "code",
   "source": [
    "model = nn.Sequential(\n",
    "    nn.Linear(2, 8),\n",
    "    nn.ReLU(),\n",
    "    nn.Linear(8, 1)\n",
    ").to(device)"
   ],
   "id": "7836d370268fc1b8",
   "outputs": [],
   "execution_count": 46
  },
  {
   "metadata": {
    "ExecuteTime": {
     "end_time": "2025-10-18T03:47:49.415436Z",
     "start_time": "2025-10-18T03:47:49.300924Z"
    }
   },
   "cell_type": "code",
   "source": "state_dict = torch.load('mymodel.pth')",
   "id": "7c15667e1195f93d",
   "outputs": [],
   "execution_count": 47
  },
  {
   "metadata": {
    "ExecuteTime": {
     "end_time": "2025-10-18T03:47:58.802039Z",
     "start_time": "2025-10-18T03:47:58.792498Z"
    }
   },
   "cell_type": "code",
   "source": [
    "model.load_state_dict(state_dict)\n",
    "model.to(device)\n",
    "\n",
    "val = [[8,9],[10,11],[1.5,2.5]]\n",
    "val = torch.tensor(val).float()\n",
    "model(val.to(device))"
   ],
   "id": "7bb7300d8530f56",
   "outputs": [
    {
     "data": {
      "text/plain": [
       "tensor([[16.3288],\n",
       "        [19.8639],\n",
       "        [ 4.8397]], device='cuda:0', grad_fn=<AddmmBackward0>)"
      ]
     },
     "execution_count": 48,
     "metadata": {},
     "output_type": "execute_result"
    }
   ],
   "execution_count": 48
  }
 ],
 "metadata": {
  "kernelspec": {
   "display_name": "Python 3",
   "language": "python",
   "name": "python3"
  },
  "language_info": {
   "codemirror_mode": {
    "name": "ipython",
    "version": 2
   },
   "file_extension": ".py",
   "mimetype": "text/x-python",
   "name": "python",
   "nbconvert_exporter": "python",
   "pygments_lexer": "ipython2",
   "version": "2.7.6"
  }
 },
 "nbformat": 4,
 "nbformat_minor": 5
}
