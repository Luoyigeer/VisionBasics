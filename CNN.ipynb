{
 "cells": [
  {
   "cell_type": "code",
   "id": "initial_id",
   "metadata": {
    "collapsed": true,
    "ExecuteTime": {
     "end_time": "2025-10-20T07:53:36.768431Z",
     "start_time": "2025-10-20T07:53:36.744582Z"
    }
   },
   "source": [
    "import torch\n",
    "from torch import nn\n",
    "from torch.utils.data import TensorDataset, DataLoader\n",
    "from torch.optim import Adam\n",
    "device = 'cuda' if torch.cuda.is_available() else 'cpu'\n",
    "\n",
    "X_train = torch.tensor([[[[1,2,3,4],[2,3,4,5],[5,6,7,8],[1,3,4,5]]],[[[-1,2,3,-4],[2,-3,4,5],[-5,6,-7,8],[-1,-3,-4,-5]]]]).to(device).float()\n",
    "X_train /= 8\n",
    "y_train = torch.tensor([[0],[1]]).to(device).float()"
   ],
   "outputs": [],
   "execution_count": 15
  },
  {
   "metadata": {
    "ExecuteTime": {
     "end_time": "2025-10-20T07:53:36.844881Z",
     "start_time": "2025-10-20T07:53:36.773543Z"
    }
   },
   "cell_type": "code",
   "source": [
    "def get_model():\n",
    "    model = nn.Sequential(\n",
    "        nn.Conv2d(1, 1, kernel_size=3),\n",
    "        nn.MaxPool2d(2),\n",
    "        nn.ReLU(),\n",
    "        nn.Flatten(),\n",
    "        nn.Linear(1, 1),\n",
    "        nn.Sigmoid(),\n",
    "    ).to(device)\n",
    "    loss_fn = nn.BCELoss()\n",
    "    optimizer = Adam(model.parameters(), lr=1e-2)\n",
    "    return model, loss_fn, optimizer\n"
   ],
   "id": "a4f679b8f69c5ba",
   "outputs": [],
   "execution_count": 16
  },
  {
   "metadata": {
    "ExecuteTime": {
     "end_time": "2025-10-20T07:53:36.949481Z",
     "start_time": "2025-10-20T07:53:36.848866Z"
    }
   },
   "cell_type": "code",
   "source": [
    "from torchsummary import summary\n",
    "model, loss_fn, optimizer = get_model()\n",
    "print(summary(model, tuple(X_train.shape[1:])))"
   ],
   "id": "ee380fe170413215",
   "outputs": [
    {
     "name": "stdout",
     "output_type": "stream",
     "text": [
      "==========================================================================================\n",
      "Layer (type:depth-idx)                   Output Shape              Param #\n",
      "==========================================================================================\n",
      "├─Conv2d: 1-1                            [-1, 1, 2, 2]             10\n",
      "├─MaxPool2d: 1-2                         [-1, 1, 1, 1]             --\n",
      "├─ReLU: 1-3                              [-1, 1, 1, 1]             --\n",
      "├─Flatten: 1-4                           [-1, 1]                   --\n",
      "├─Linear: 1-5                            [-1, 1]                   2\n",
      "├─Sigmoid: 1-6                           [-1, 1]                   --\n",
      "==========================================================================================\n",
      "Total params: 12\n",
      "Trainable params: 12\n",
      "Non-trainable params: 0\n",
      "Total mult-adds (M): 0.00\n",
      "==========================================================================================\n",
      "Input size (MB): 0.00\n",
      "Forward/backward pass size (MB): 0.00\n",
      "Params size (MB): 0.00\n",
      "Estimated Total Size (MB): 0.00\n",
      "==========================================================================================\n",
      "==========================================================================================\n",
      "Layer (type:depth-idx)                   Output Shape              Param #\n",
      "==========================================================================================\n",
      "├─Conv2d: 1-1                            [-1, 1, 2, 2]             10\n",
      "├─MaxPool2d: 1-2                         [-1, 1, 1, 1]             --\n",
      "├─ReLU: 1-3                              [-1, 1, 1, 1]             --\n",
      "├─Flatten: 1-4                           [-1, 1]                   --\n",
      "├─Linear: 1-5                            [-1, 1]                   2\n",
      "├─Sigmoid: 1-6                           [-1, 1]                   --\n",
      "==========================================================================================\n",
      "Total params: 12\n",
      "Trainable params: 12\n",
      "Non-trainable params: 0\n",
      "Total mult-adds (M): 0.00\n",
      "==========================================================================================\n",
      "Input size (MB): 0.00\n",
      "Forward/backward pass size (MB): 0.00\n",
      "Params size (MB): 0.00\n",
      "Estimated Total Size (MB): 0.00\n",
      "==========================================================================================\n"
     ]
    }
   ],
   "execution_count": 17
  },
  {
   "metadata": {
    "ExecuteTime": {
     "end_time": "2025-10-20T07:53:37.026845Z",
     "start_time": "2025-10-20T07:53:36.968170Z"
    }
   },
   "cell_type": "code",
   "source": [
    "def train_batch(x, y, model, optimizer, loss_fn):\n",
    "    model.train()\n",
    "    prediction = model(x)\n",
    "    # print(prediction)\n",
    "    batch_loss = loss_fn(prediction, y)\n",
    "    batch_loss.backward()\n",
    "    optimizer.step()\n",
    "    optimizer.zero_grad()\n",
    "    return batch_loss.item()"
   ],
   "id": "ea3c0aeaa9d7f8ac",
   "outputs": [],
   "execution_count": 18
  },
  {
   "metadata": {
    "ExecuteTime": {
     "end_time": "2025-10-20T07:53:37.080878Z",
     "start_time": "2025-10-20T07:53:37.030821Z"
    }
   },
   "cell_type": "code",
   "source": "trn_dl = DataLoader(TensorDataset(X_train, y_train))",
   "id": "ba7a3661e9004ac",
   "outputs": [],
   "execution_count": 19
  },
  {
   "metadata": {
    "ExecuteTime": {
     "end_time": "2025-10-20T07:53:42.808474Z",
     "start_time": "2025-10-20T07:53:37.090912Z"
    }
   },
   "cell_type": "code",
   "source": [
    "for epoch in range(2000):\n",
    "    for ix, batch in enumerate(iter(trn_dl)):\n",
    "        x, y = batch\n",
    "        batch_loss = train_batch(x, y, model, optimizer, loss_fn)"
   ],
   "id": "89255d36423b69c5",
   "outputs": [],
   "execution_count": 20
  },
  {
   "metadata": {
    "ExecuteTime": {
     "end_time": "2025-10-20T07:53:42.903868Z",
     "start_time": "2025-10-20T07:53:42.897302Z"
    }
   },
   "cell_type": "code",
   "source": "(cnn_w, cnn_b), (lin_w, lin_b) = [(layer.weight.data, layer.bias.data) for layer in list(model.children()) if hasattr(layer, 'weight')]",
   "id": "58cd12077c6654bb",
   "outputs": [],
   "execution_count": 21
  },
  {
   "metadata": {
    "ExecuteTime": {
     "end_time": "2025-10-20T07:53:42.978122Z",
     "start_time": "2025-10-20T07:53:42.908653Z"
    }
   },
   "cell_type": "code",
   "source": [
    "h_im, w_im = X_train.shape[2:]\n",
    "h_conv, w_conv = cnn_w.shape[2:]\n",
    "sumprod = torch.zeros((h_im - h_conv + 1, w_im - w_conv + 1))"
   ],
   "id": "fe8c1078874af5bf",
   "outputs": [],
   "execution_count": 22
  },
  {
   "metadata": {
    "ExecuteTime": {
     "end_time": "2025-10-20T07:53:43.064016Z",
     "start_time": "2025-10-20T07:53:42.986141Z"
    }
   },
   "cell_type": "code",
   "source": [
    "for i in range(h_im - h_conv + 1):\n",
    "    for j in range(w_im - w_conv + 1):\n",
    "        img_subset = X_train[0, 0, i:(i+3), j:(j+3)]\n",
    "        model_filter = cnn_w.reshape(3,3)\n",
    "        val = torch.sum(img_subset*model_filter) + cnn_b\n",
    "        sumprod[i,j] = val"
   ],
   "id": "5edf7a236e314096",
   "outputs": [],
   "execution_count": 23
  },
  {
   "metadata": {
    "ExecuteTime": {
     "end_time": "2025-10-20T07:53:43.144923Z",
     "start_time": "2025-10-20T07:53:43.074188Z"
    }
   },
   "cell_type": "code",
   "source": "pooling_layer_output = torch.max(sumprod)",
   "id": "2966aaeb86c4e2b9",
   "outputs": [],
   "execution_count": 24
  },
  {
   "metadata": {
    "ExecuteTime": {
     "end_time": "2025-10-20T07:53:43.219914Z",
     "start_time": "2025-10-20T07:53:43.152609Z"
    }
   },
   "cell_type": "code",
   "source": "print(pooling_layer_output.clamp_min_(0))",
   "id": "43cd90e14328cd83",
   "outputs": [
    {
     "name": "stdout",
     "output_type": "stream",
     "text": [
      "tensor(0.)\n"
     ]
    }
   ],
   "execution_count": 25
  },
  {
   "metadata": {
    "ExecuteTime": {
     "end_time": "2025-10-20T07:53:43.289423Z",
     "start_time": "2025-10-20T07:53:43.244186Z"
    }
   },
   "cell_type": "code",
   "source": "intermediate_output_value = pooling_layer_output * lin_w + lin_b",
   "id": "75a0fa4e5565e99f",
   "outputs": [],
   "execution_count": 26
  },
  {
   "metadata": {
    "ExecuteTime": {
     "end_time": "2025-10-20T07:53:45.182609Z",
     "start_time": "2025-10-20T07:53:45.176612Z"
    }
   },
   "cell_type": "code",
   "source": "print(torch.sigmoid(intermediate_output_value))",
   "id": "4902a730f1b9baae",
   "outputs": [
    {
     "name": "stdout",
     "output_type": "stream",
     "text": [
      "tensor([[0.0039]], device='cuda:0')\n"
     ]
    }
   ],
   "execution_count": 27
  }
 ],
 "metadata": {
  "kernelspec": {
   "display_name": "Python 3",
   "language": "python",
   "name": "python3"
  },
  "language_info": {
   "codemirror_mode": {
    "name": "ipython",
    "version": 2
   },
   "file_extension": ".py",
   "mimetype": "text/x-python",
   "name": "python",
   "nbconvert_exporter": "python",
   "pygments_lexer": "ipython2",
   "version": "2.7.6"
  }
 },
 "nbformat": 4,
 "nbformat_minor": 5
}
